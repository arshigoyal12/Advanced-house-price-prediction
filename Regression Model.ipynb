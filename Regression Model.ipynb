{
 "cells": [
  {
   "cell_type": "code",
   "execution_count": 15,
   "id": "5e72973f",
   "metadata": {},
   "outputs": [],
   "source": [
    "import numpy as np\n",
    "import pandas as pd\n",
    "import matplotlib.pyplot as plt\n",
    "import seaborn as sns"
   ]
  },
  {
   "cell_type": "code",
   "execution_count": 16,
   "id": "381b185c",
   "metadata": {},
   "outputs": [],
   "source": [
    "X_train = pd.read_csv('X_train.csv')\n",
    "y_train = pd.read_csv('y_train.csv')\n",
    "X_test = pd.read_csv('X_test.csv')"
   ]
  },
  {
   "cell_type": "markdown",
   "id": "21c695c0",
   "metadata": {},
   "source": [
    "# Multiple Linear Regression"
   ]
  },
  {
   "cell_type": "code",
   "execution_count": 17,
   "id": "eadd449e",
   "metadata": {},
   "outputs": [],
   "source": [
    "from sklearn.linear_model import LinearRegression\n",
    "regressor = LinearRegression()"
   ]
  },
  {
   "cell_type": "code",
   "execution_count": 18,
   "id": "7260de86",
   "metadata": {},
   "outputs": [
    {
     "name": "stdout",
     "output_type": "stream",
     "text": [
      "RMSE Scores: [0.02 0.01 0.01 0.01 0.01]\n",
      "Average RMSE: 0.00902236782923827\n"
     ]
    }
   ],
   "source": [
    "from sklearn.model_selection import cross_val_score\n",
    "from sklearn.model_selection import KFold\n",
    "\n",
    "num_folds = 5\n",
    "\n",
    "# Define the evaluation metric (e.g., mean squared error)\n",
    "scoring = 'neg_mean_squared_error'\n",
    "\n",
    "# Create a cross-validation object\n",
    "kfold = KFold(n_splits=num_folds, shuffle=True, random_state=42)\n",
    "\n",
    "# Perform cross-validation and calculate the scores\n",
    "scores = cross_val_score(regressor, X_train, y_train, cv=kfold, scoring=scoring)\n",
    "\n",
    "# Convert the negative mean squared error scores to positive\n",
    "rmse_scores = -scores\n",
    "\n",
    "# Calculate the average RMSE across all folds\n",
    "average_rmse = rmse_scores.mean()\n",
    "\n",
    "# Print the RMSE for each fold and the average RMSE\n",
    "print(\"RMSE Scores:\", rmse_scores)\n",
    "print(\"Average RMSE:\", average_rmse)"
   ]
  },
  {
   "cell_type": "markdown",
   "id": "24f72da0",
   "metadata": {},
   "source": [
    "# Decision Tree Regression"
   ]
  },
  {
   "cell_type": "code",
   "execution_count": 19,
   "id": "47c24106",
   "metadata": {},
   "outputs": [],
   "source": [
    "from sklearn.tree import DecisionTreeRegressor\n",
    "regressor = DecisionTreeRegressor(random_state = 0)"
   ]
  },
  {
   "cell_type": "code",
   "execution_count": 20,
   "id": "bae93830",
   "metadata": {},
   "outputs": [
    {
     "name": "stdout",
     "output_type": "stream",
     "text": [
      "RMSE Scores: [0.03 0.02 0.02 0.02 0.01]\n",
      "Average RMSE: 0.019736625395888503\n"
     ]
    }
   ],
   "source": [
    "num_folds = 5\n",
    "\n",
    "# Define the evaluation metric (e.g., mean squared error)\n",
    "scoring = 'neg_mean_squared_error'\n",
    "\n",
    "# Create a cross-validation object\n",
    "kfold = KFold(n_splits=num_folds, shuffle=True, random_state=42)\n",
    "\n",
    "# Perform cross-validation and calculate the scores\n",
    "scores = cross_val_score(regressor, X_train, y_train, cv=kfold, scoring=scoring)\n",
    "\n",
    "# Convert the negative mean squared error scores to positive\n",
    "rmse_scores = -scores\n",
    "\n",
    "# Calculate the average RMSE across all folds\n",
    "average_rmse = rmse_scores.mean()\n",
    "\n",
    "# Print the RMSE for each fold and the average RMSE\n",
    "print(\"RMSE Scores:\", rmse_scores)\n",
    "print(\"Average RMSE:\", average_rmse)"
   ]
  },
  {
   "cell_type": "markdown",
   "id": "747ab088",
   "metadata": {},
   "source": [
    "# Random Forest Regressor"
   ]
  },
  {
   "cell_type": "code",
   "execution_count": 21,
   "id": "d320615c",
   "metadata": {},
   "outputs": [],
   "source": [
    "from sklearn.ensemble import RandomForestRegressor\n",
    "regressor = RandomForestRegressor(n_estimators = 10, random_state = 0)"
   ]
  },
  {
   "cell_type": "code",
   "execution_count": 22,
   "id": "c16b2f71",
   "metadata": {},
   "outputs": [
    {
     "name": "stdout",
     "output_type": "stream",
     "text": [
      "RMSE Scores: [0.02 0.02 0.01 0.01 0.01]\n",
      "Average RMSE: 0.012424526825893593\n"
     ]
    },
    {
     "name": "stderr",
     "output_type": "stream",
     "text": [
      "C:\\Users\\hp\\anaconda3\\lib\\site-packages\\sklearn\\model_selection\\_validation.py:686: DataConversionWarning: A column-vector y was passed when a 1d array was expected. Please change the shape of y to (n_samples,), for example using ravel().\n",
      "  estimator.fit(X_train, y_train, **fit_params)\n",
      "C:\\Users\\hp\\anaconda3\\lib\\site-packages\\sklearn\\model_selection\\_validation.py:686: DataConversionWarning: A column-vector y was passed when a 1d array was expected. Please change the shape of y to (n_samples,), for example using ravel().\n",
      "  estimator.fit(X_train, y_train, **fit_params)\n",
      "C:\\Users\\hp\\anaconda3\\lib\\site-packages\\sklearn\\model_selection\\_validation.py:686: DataConversionWarning: A column-vector y was passed when a 1d array was expected. Please change the shape of y to (n_samples,), for example using ravel().\n",
      "  estimator.fit(X_train, y_train, **fit_params)\n",
      "C:\\Users\\hp\\anaconda3\\lib\\site-packages\\sklearn\\model_selection\\_validation.py:686: DataConversionWarning: A column-vector y was passed when a 1d array was expected. Please change the shape of y to (n_samples,), for example using ravel().\n",
      "  estimator.fit(X_train, y_train, **fit_params)\n",
      "C:\\Users\\hp\\anaconda3\\lib\\site-packages\\sklearn\\model_selection\\_validation.py:686: DataConversionWarning: A column-vector y was passed when a 1d array was expected. Please change the shape of y to (n_samples,), for example using ravel().\n",
      "  estimator.fit(X_train, y_train, **fit_params)\n"
     ]
    }
   ],
   "source": [
    "num_folds = 5\n",
    "\n",
    "# Define the evaluation metric (e.g., mean squared error)\n",
    "scoring = 'neg_mean_squared_error'\n",
    "\n",
    "# Create a cross-validation object\n",
    "kfold = KFold(n_splits=num_folds, shuffle=True, random_state=42)\n",
    "\n",
    "# Perform cross-validation and calculate the scores\n",
    "scores = cross_val_score(regressor, X_train, y_train, cv=kfold, scoring=scoring)\n",
    "\n",
    "# Convert the negative mean squared error scores to positive\n",
    "rmse_scores = -scores\n",
    "\n",
    "# Calculate the average RMSE across all folds\n",
    "average_rmse = rmse_scores.mean()\n",
    "\n",
    "# Print the RMSE for each fold and the average RMSE\n",
    "print(\"RMSE Scores:\", rmse_scores)\n",
    "print(\"Average RMSE:\", average_rmse)"
   ]
  },
  {
   "cell_type": "markdown",
   "id": "abb5fb84",
   "metadata": {},
   "source": [
    "# SVR"
   ]
  },
  {
   "cell_type": "code",
   "execution_count": 23,
   "id": "71e27fe5",
   "metadata": {},
   "outputs": [],
   "source": [
    "from sklearn.svm import SVR\n",
    "regressor = SVR(kernel = 'rbf')"
   ]
  },
  {
   "cell_type": "code",
   "execution_count": 24,
   "id": "5cc58509",
   "metadata": {},
   "outputs": [
    {
     "name": "stdout",
     "output_type": "stream",
     "text": [
      "RMSE Scores: [0.02 0.01 0.01 0.01 0.01]\n",
      "Average RMSE: 0.011030043171044803\n"
     ]
    },
    {
     "name": "stderr",
     "output_type": "stream",
     "text": [
      "C:\\Users\\hp\\anaconda3\\lib\\site-packages\\sklearn\\utils\\validation.py:1143: DataConversionWarning: A column-vector y was passed when a 1d array was expected. Please change the shape of y to (n_samples, ), for example using ravel().\n",
      "  y = column_or_1d(y, warn=True)\n",
      "C:\\Users\\hp\\anaconda3\\lib\\site-packages\\sklearn\\utils\\validation.py:1143: DataConversionWarning: A column-vector y was passed when a 1d array was expected. Please change the shape of y to (n_samples, ), for example using ravel().\n",
      "  y = column_or_1d(y, warn=True)\n",
      "C:\\Users\\hp\\anaconda3\\lib\\site-packages\\sklearn\\utils\\validation.py:1143: DataConversionWarning: A column-vector y was passed when a 1d array was expected. Please change the shape of y to (n_samples, ), for example using ravel().\n",
      "  y = column_or_1d(y, warn=True)\n",
      "C:\\Users\\hp\\anaconda3\\lib\\site-packages\\sklearn\\utils\\validation.py:1143: DataConversionWarning: A column-vector y was passed when a 1d array was expected. Please change the shape of y to (n_samples, ), for example using ravel().\n",
      "  y = column_or_1d(y, warn=True)\n",
      "C:\\Users\\hp\\anaconda3\\lib\\site-packages\\sklearn\\utils\\validation.py:1143: DataConversionWarning: A column-vector y was passed when a 1d array was expected. Please change the shape of y to (n_samples, ), for example using ravel().\n",
      "  y = column_or_1d(y, warn=True)\n"
     ]
    }
   ],
   "source": [
    "num_folds = 5\n",
    "\n",
    "# Define the evaluation metric (e.g., mean squared error)\n",
    "scoring = 'neg_mean_squared_error'\n",
    "\n",
    "# Create a cross-validation object\n",
    "kfold = KFold(n_splits=num_folds, shuffle=True, random_state=42)\n",
    "\n",
    "# Perform cross-validation and calculate the scores\n",
    "scores = cross_val_score(regressor, X_train, y_train, cv=kfold, scoring=scoring)\n",
    "\n",
    "# Convert the negative mean squared error scores to positive\n",
    "rmse_scores = -scores\n",
    "\n",
    "# Calculate the average RMSE across all folds\n",
    "average_rmse = rmse_scores.mean()\n",
    "\n",
    "# Print the RMSE for each fold and the average RMSE\n",
    "print(\"RMSE Scores:\", rmse_scores)\n",
    "print(\"Average RMSE:\", average_rmse)"
   ]
  },
  {
   "cell_type": "code",
   "execution_count": null,
   "id": "5df400e5",
   "metadata": {},
   "outputs": [],
   "source": []
  }
 ],
 "metadata": {
  "kernelspec": {
   "display_name": "Python 3 (ipykernel)",
   "language": "python",
   "name": "python3"
  },
  "language_info": {
   "codemirror_mode": {
    "name": "ipython",
    "version": 3
   },
   "file_extension": ".py",
   "mimetype": "text/x-python",
   "name": "python",
   "nbconvert_exporter": "python",
   "pygments_lexer": "ipython3",
   "version": "3.10.9"
  }
 },
 "nbformat": 4,
 "nbformat_minor": 5
}
